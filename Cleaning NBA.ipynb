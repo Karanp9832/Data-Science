{
 "cells": [
  {
   "cell_type": "markdown",
   "metadata": {
    "id": "u-EEv9utoT69"
   },
   "source": [
    "# Task 1: Data Preparation\n",
    "\n",
    "You will start by loading the CSV data from the file (using appropriate pandas functions) and checking whether the loaded data is equivalent to the data in the source CSV file.\n",
    "\n",
    "Then, you need to clean the data by using the knowledge we taught in the lectures. You need to deal with all the potential issues/errors in the data appropriately.\n",
    "\n"
   ]
  },
  {
   "cell_type": "markdown",
   "metadata": {},
   "source": [
    "## Data Preperation :\n",
    "\n",
    "Before we can begin we must clean up the dataset to get it into a compatible format for the regression model. This involves removing invalid rows, one-hot-encoding categorical variables and converting to appropriate data types."
   ]
  },
  {
   "cell_type": "markdown",
   "metadata": {},
   "source": [
    "### Importing Libraries and the Dataset :\n",
    "\n",
    "Before we can do any processing with the dataset we must import the necesary libraries we will be using."
   ]
  },
  {
   "cell_type": "code",
   "execution_count": 1,
   "metadata": {
    "id": "Qykq4YuQtZUS"
   },
   "outputs": [],
   "source": [
    "# Import libraries\n",
    "import numpy as np\n",
    "import pandas as pd\n",
    "import matplotlib.pyplot as plt\n",
    "import seaborn as sns\n",
    "import datetime\n",
    "import random\n",
    "import statsmodels.api as sm\n",
    "import warnings\n",
    "warnings.filterwarnings(\"ignore\")\n",
    "pd.set_option('display.max_columns', None)"
   ]
  },
  {
   "cell_type": "code",
   "execution_count": 2,
   "metadata": {},
   "outputs": [],
   "source": [
    "NBA_players_p=\"NBA_players_stats.csv\""
   ]
  },
  {
   "cell_type": "markdown",
   "metadata": {},
   "source": [
    "###### We then import the dataset as the variable `df`. We use the Pandas library to read in the CSV file.\n"
   ]
  },
  {
   "cell_type": "code",
   "execution_count": 3,
   "metadata": {},
   "outputs": [
    {
     "data": {
      "text/html": [
       "<div>\n",
       "<style scoped>\n",
       "    .dataframe tbody tr th:only-of-type {\n",
       "        vertical-align: middle;\n",
       "    }\n",
       "\n",
       "    .dataframe tbody tr th {\n",
       "        vertical-align: top;\n",
       "    }\n",
       "\n",
       "    .dataframe thead th {\n",
       "        text-align: right;\n",
       "    }\n",
       "</style>\n",
       "<table border=\"1\" class=\"dataframe\">\n",
       "  <thead>\n",
       "    <tr style=\"text-align: right;\">\n",
       "      <th></th>\n",
       "      <th>Rk</th>\n",
       "      <th>Player</th>\n",
       "      <th>Pos</th>\n",
       "      <th>Age</th>\n",
       "      <th>Tm</th>\n",
       "      <th>G</th>\n",
       "      <th>GS</th>\n",
       "      <th>MP</th>\n",
       "      <th>FG</th>\n",
       "      <th>FGA</th>\n",
       "      <th>FG%</th>\n",
       "      <th>3P</th>\n",
       "      <th>3PA</th>\n",
       "      <th>3P%</th>\n",
       "      <th>2P</th>\n",
       "      <th>2PA</th>\n",
       "      <th>2P%</th>\n",
       "      <th>FT</th>\n",
       "      <th>FTA</th>\n",
       "      <th>FT%</th>\n",
       "      <th>ORB</th>\n",
       "      <th>DRB</th>\n",
       "      <th>TRB</th>\n",
       "      <th>AST</th>\n",
       "      <th>STL</th>\n",
       "      <th>BLK</th>\n",
       "      <th>TOV</th>\n",
       "      <th>PF</th>\n",
       "      <th>PTS</th>\n",
       "    </tr>\n",
       "  </thead>\n",
       "  <tbody>\n",
       "    <tr>\n",
       "      <th>432</th>\n",
       "      <td>415</td>\n",
       "      <td>Chris Silva</td>\n",
       "      <td>PF</td>\n",
       "      <td>24</td>\n",
       "      <td>MIA</td>\n",
       "      <td>6</td>\n",
       "      <td>0</td>\n",
       "      <td>53</td>\n",
       "      <td>6</td>\n",
       "      <td>9</td>\n",
       "      <td>0.667</td>\n",
       "      <td>1</td>\n",
       "      <td>1</td>\n",
       "      <td>1.000</td>\n",
       "      <td>5</td>\n",
       "      <td>8</td>\n",
       "      <td>0.625</td>\n",
       "      <td>10</td>\n",
       "      <td>12</td>\n",
       "      <td>0.833</td>\n",
       "      <td>7</td>\n",
       "      <td>11</td>\n",
       "      <td>18</td>\n",
       "      <td>6</td>\n",
       "      <td>1</td>\n",
       "      <td>2</td>\n",
       "      <td>8</td>\n",
       "      <td>14</td>\n",
       "      <td>23</td>\n",
       "    </tr>\n",
       "    <tr>\n",
       "      <th>433</th>\n",
       "      <td>416</td>\n",
       "      <td>Ben Simmons</td>\n",
       "      <td>PG</td>\n",
       "      <td>24</td>\n",
       "      <td>PHI</td>\n",
       "      <td>31</td>\n",
       "      <td>31</td>\n",
       "      <td>1051</td>\n",
       "      <td>192</td>\n",
       "      <td>332</td>\n",
       "      <td>0.578</td>\n",
       "      <td>2</td>\n",
       "      <td>7</td>\n",
       "      <td>0.286</td>\n",
       "      <td>190</td>\n",
       "      <td>325</td>\n",
       "      <td>0.585</td>\n",
       "      <td>112</td>\n",
       "      <td>167</td>\n",
       "      <td>0.671</td>\n",
       "      <td>54</td>\n",
       "      <td>191</td>\n",
       "      <td>245</td>\n",
       "      <td>236</td>\n",
       "      <td>49</td>\n",
       "      <td>22</td>\n",
       "      <td>104</td>\n",
       "      <td>96</td>\n",
       "      <td>498</td>\n",
       "    </tr>\n",
       "    <tr>\n",
       "      <th>352</th>\n",
       "      <td>343</td>\n",
       "      <td>Royce O'Neale</td>\n",
       "      <td>SF</td>\n",
       "      <td>27</td>\n",
       "      <td>UTA</td>\n",
       "      <td>36</td>\n",
       "      <td>36</td>\n",
       "      <td>1181</td>\n",
       "      <td>94</td>\n",
       "      <td>213</td>\n",
       "      <td>0.441</td>\n",
       "      <td>62</td>\n",
       "      <td>151</td>\n",
       "      <td>0.411</td>\n",
       "      <td>32</td>\n",
       "      <td>62</td>\n",
       "      <td>0.516</td>\n",
       "      <td>23</td>\n",
       "      <td>28</td>\n",
       "      <td>0.821</td>\n",
       "      <td>45</td>\n",
       "      <td>199</td>\n",
       "      <td>244</td>\n",
       "      <td>94</td>\n",
       "      <td>28</td>\n",
       "      <td>20</td>\n",
       "      <td>42</td>\n",
       "      <td>102</td>\n",
       "      <td>273</td>\n",
       "    </tr>\n",
       "    <tr>\n",
       "      <th>314</th>\n",
       "      <td>305</td>\n",
       "      <td>Jordan McLaughlin</td>\n",
       "      <td>PG</td>\n",
       "      <td>24</td>\n",
       "      <td>MIN</td>\n",
       "      <td>24</td>\n",
       "      <td>0</td>\n",
       "      <td>467</td>\n",
       "      <td>53</td>\n",
       "      <td>141</td>\n",
       "      <td>0.376</td>\n",
       "      <td>16</td>\n",
       "      <td>46</td>\n",
       "      <td>0.348</td>\n",
       "      <td>37</td>\n",
       "      <td>95</td>\n",
       "      <td>0.389</td>\n",
       "      <td>8</td>\n",
       "      <td>10</td>\n",
       "      <td>0.800</td>\n",
       "      <td>13</td>\n",
       "      <td>43</td>\n",
       "      <td>56</td>\n",
       "      <td>113</td>\n",
       "      <td>24</td>\n",
       "      <td>4</td>\n",
       "      <td>26</td>\n",
       "      <td>24</td>\n",
       "      <td>130</td>\n",
       "    </tr>\n",
       "    <tr>\n",
       "      <th>156</th>\n",
       "      <td>155</td>\n",
       "      <td>Marc Gasol</td>\n",
       "      <td>C</td>\n",
       "      <td>36</td>\n",
       "      <td>LAL</td>\n",
       "      <td>35</td>\n",
       "      <td>35</td>\n",
       "      <td>703</td>\n",
       "      <td>54</td>\n",
       "      <td>134</td>\n",
       "      <td>0.403</td>\n",
       "      <td>31</td>\n",
       "      <td>85</td>\n",
       "      <td>0.365</td>\n",
       "      <td>23</td>\n",
       "      <td>49</td>\n",
       "      <td>0.469</td>\n",
       "      <td>29</td>\n",
       "      <td>36</td>\n",
       "      <td>0.806</td>\n",
       "      <td>25</td>\n",
       "      <td>118</td>\n",
       "      <td>143</td>\n",
       "      <td>69</td>\n",
       "      <td>17</td>\n",
       "      <td>45</td>\n",
       "      <td>30</td>\n",
       "      <td>82</td>\n",
       "      <td>168</td>\n",
       "    </tr>\n",
       "    <tr>\n",
       "      <th>179</th>\n",
       "      <td>178</td>\n",
       "      <td>Tyrese Haliburton</td>\n",
       "      <td>PG</td>\n",
       "      <td>20</td>\n",
       "      <td>SAC</td>\n",
       "      <td>30</td>\n",
       "      <td>2</td>\n",
       "      <td>903</td>\n",
       "      <td>153</td>\n",
       "      <td>310</td>\n",
       "      <td>0.494</td>\n",
       "      <td>71</td>\n",
       "      <td>164</td>\n",
       "      <td>0.433</td>\n",
       "      <td>82</td>\n",
       "      <td>146</td>\n",
       "      <td>0.562</td>\n",
       "      <td>20</td>\n",
       "      <td>24</td>\n",
       "      <td>0.833</td>\n",
       "      <td>29</td>\n",
       "      <td>78</td>\n",
       "      <td>107</td>\n",
       "      <td>161</td>\n",
       "      <td>42</td>\n",
       "      <td>18</td>\n",
       "      <td>46</td>\n",
       "      <td>36</td>\n",
       "      <td>397</td>\n",
       "    </tr>\n",
       "    <tr>\n",
       "      <th>415</th>\n",
       "      <td>399</td>\n",
       "      <td>Derrick Rose</td>\n",
       "      <td>PG</td>\n",
       "      <td>32</td>\n",
       "      <td>DET</td>\n",
       "      <td>15</td>\n",
       "      <td>0</td>\n",
       "      <td>342</td>\n",
       "      <td>79</td>\n",
       "      <td>184</td>\n",
       "      <td>0.429</td>\n",
       "      <td>13</td>\n",
       "      <td>39</td>\n",
       "      <td>0.333</td>\n",
       "      <td>66</td>\n",
       "      <td>145</td>\n",
       "      <td>0.455</td>\n",
       "      <td>42</td>\n",
       "      <td>50</td>\n",
       "      <td>0.840</td>\n",
       "      <td>6</td>\n",
       "      <td>23</td>\n",
       "      <td>29</td>\n",
       "      <td>63</td>\n",
       "      <td>18</td>\n",
       "      <td>4</td>\n",
       "      <td>29</td>\n",
       "      <td>17</td>\n",
       "      <td>213</td>\n",
       "    </tr>\n",
       "    <tr>\n",
       "      <th>267</th>\n",
       "      <td>260</td>\n",
       "      <td>Jalen Lecque</td>\n",
       "      <td>PG</td>\n",
       "      <td>20</td>\n",
       "      <td>IND</td>\n",
       "      <td>3</td>\n",
       "      <td>0</td>\n",
       "      <td>9</td>\n",
       "      <td>1</td>\n",
       "      <td>4</td>\n",
       "      <td>0.250</td>\n",
       "      <td>0</td>\n",
       "      <td>1</td>\n",
       "      <td>0.000</td>\n",
       "      <td>1</td>\n",
       "      <td>3</td>\n",
       "      <td>0.333</td>\n",
       "      <td>3</td>\n",
       "      <td>3</td>\n",
       "      <td>1.000</td>\n",
       "      <td>1</td>\n",
       "      <td>3</td>\n",
       "      <td>4</td>\n",
       "      <td>2</td>\n",
       "      <td>0</td>\n",
       "      <td>0</td>\n",
       "      <td>0</td>\n",
       "      <td>0</td>\n",
       "      <td>5</td>\n",
       "    </tr>\n",
       "    <tr>\n",
       "      <th>151</th>\n",
       "      <td>150</td>\n",
       "      <td>Wenyen Gabriel</td>\n",
       "      <td>PF</td>\n",
       "      <td>23</td>\n",
       "      <td>NOP</td>\n",
       "      <td>4</td>\n",
       "      <td>0</td>\n",
       "      <td>12</td>\n",
       "      <td>0</td>\n",
       "      <td>3</td>\n",
       "      <td>0.000</td>\n",
       "      <td>0</td>\n",
       "      <td>1</td>\n",
       "      <td>0.000</td>\n",
       "      <td>0</td>\n",
       "      <td>2</td>\n",
       "      <td>0.000</td>\n",
       "      <td>0</td>\n",
       "      <td>0</td>\n",
       "      <td>NaN</td>\n",
       "      <td>1</td>\n",
       "      <td>4</td>\n",
       "      <td>5</td>\n",
       "      <td>1</td>\n",
       "      <td>0</td>\n",
       "      <td>0</td>\n",
       "      <td>0</td>\n",
       "      <td>0</td>\n",
       "      <td>0</td>\n",
       "    </tr>\n",
       "    <tr>\n",
       "      <th>395</th>\n",
       "      <td>380</td>\n",
       "      <td>Payton Pritchard</td>\n",
       "      <td>SG</td>\n",
       "      <td>23</td>\n",
       "      <td>BOS</td>\n",
       "      <td>30</td>\n",
       "      <td>1</td>\n",
       "      <td>641</td>\n",
       "      <td>86</td>\n",
       "      <td>188</td>\n",
       "      <td>0.457</td>\n",
       "      <td>41</td>\n",
       "      <td>102</td>\n",
       "      <td>0.402</td>\n",
       "      <td>45</td>\n",
       "      <td>86</td>\n",
       "      <td>0.523</td>\n",
       "      <td>17</td>\n",
       "      <td>18</td>\n",
       "      <td>0.944</td>\n",
       "      <td>16</td>\n",
       "      <td>54</td>\n",
       "      <td>70</td>\n",
       "      <td>69</td>\n",
       "      <td>18</td>\n",
       "      <td>5</td>\n",
       "      <td>34</td>\n",
       "      <td>59</td>\n",
       "      <td>230</td>\n",
       "    </tr>\n",
       "  </tbody>\n",
       "</table>\n",
       "</div>"
      ],
      "text/plain": [
       "      Rk             Player Pos  Age   Tm   G  GS    MP   FG  FGA    FG%  3P  \\\n",
       "432  415        Chris Silva  PF   24  MIA   6   0    53    6    9  0.667   1   \n",
       "433  416        Ben Simmons  PG   24  PHI  31  31  1051  192  332  0.578   2   \n",
       "352  343      Royce O'Neale  SF   27  UTA  36  36  1181   94  213  0.441  62   \n",
       "314  305  Jordan McLaughlin  PG   24  MIN  24   0   467   53  141  0.376  16   \n",
       "156  155         Marc Gasol   C   36  LAL  35  35   703   54  134  0.403  31   \n",
       "179  178  Tyrese Haliburton  PG   20  SAC  30   2   903  153  310  0.494  71   \n",
       "415  399       Derrick Rose  PG   32  DET  15   0   342   79  184  0.429  13   \n",
       "267  260       Jalen Lecque  PG   20  IND   3   0     9    1    4  0.250   0   \n",
       "151  150     Wenyen Gabriel  PF   23  NOP   4   0    12    0    3  0.000   0   \n",
       "395  380   Payton Pritchard  SG   23  BOS  30   1   641   86  188  0.457  41   \n",
       "\n",
       "     3PA    3P%   2P  2PA    2P%   FT  FTA    FT%  ORB  DRB  TRB  AST  STL  \\\n",
       "432    1  1.000    5    8  0.625   10   12  0.833    7   11   18    6    1   \n",
       "433    7  0.286  190  325  0.585  112  167  0.671   54  191  245  236   49   \n",
       "352  151  0.411   32   62  0.516   23   28  0.821   45  199  244   94   28   \n",
       "314   46  0.348   37   95  0.389    8   10  0.800   13   43   56  113   24   \n",
       "156   85  0.365   23   49  0.469   29   36  0.806   25  118  143   69   17   \n",
       "179  164  0.433   82  146  0.562   20   24  0.833   29   78  107  161   42   \n",
       "415   39  0.333   66  145  0.455   42   50  0.840    6   23   29   63   18   \n",
       "267    1  0.000    1    3  0.333    3    3  1.000    1    3    4    2    0   \n",
       "151    1  0.000    0    2  0.000    0    0    NaN    1    4    5    1    0   \n",
       "395  102  0.402   45   86  0.523   17   18  0.944   16   54   70   69   18   \n",
       "\n",
       "     BLK  TOV   PF  PTS  \n",
       "432    2    8   14   23  \n",
       "433   22  104   96  498  \n",
       "352   20   42  102  273  \n",
       "314    4   26   24  130  \n",
       "156   45   30   82  168  \n",
       "179   18   46   36  397  \n",
       "415    4   29   17  213  \n",
       "267    0    0    0    5  \n",
       "151    0    0    0    0  \n",
       "395    5   34   59  230  "
      ]
     },
     "execution_count": 3,
     "metadata": {},
     "output_type": "execute_result"
    }
   ],
   "source": [
    "# Loading the data from the file NBA_players_stats.csv using pandas library\n",
    "df = pd.read_csv(NBA_players_p,skipinitialspace=True)\n",
    "\n",
    "\n",
    "# To verify that the dataset has been imported as needed we display a random sample:\n",
    "df.sample(10, random_state=23)"
   ]
  },
  {
   "cell_type": "code",
   "execution_count": 4,
   "metadata": {},
   "outputs": [
    {
     "data": {
      "text/plain": [
       "Rk          int64\n",
       "Player     object\n",
       "Pos        object\n",
       "Age         int64\n",
       "Tm         object\n",
       "G           int64\n",
       "GS          int64\n",
       "MP          int64\n",
       "FG          int64\n",
       "FGA         int64\n",
       "FG%       float64\n",
       "3P          int64\n",
       "3PA         int64\n",
       "3P%       float64\n",
       "2P          int64\n",
       "2PA         int64\n",
       "2P%       float64\n",
       "FT          int64\n",
       "FTA         int64\n",
       "FT%       float64\n",
       "ORB         int64\n",
       "DRB         int64\n",
       "TRB         int64\n",
       "AST         int64\n",
       "STL         int64\n",
       "BLK         int64\n",
       "TOV         int64\n",
       "PF          int64\n",
       "PTS         int64\n",
       "dtype: object"
      ]
     },
     "execution_count": 4,
     "metadata": {},
     "output_type": "execute_result"
    }
   ],
   "source": [
    "#data types of the attributes\n",
    "df.dtypes"
   ]
  },
  {
   "cell_type": "code",
   "execution_count": 5,
   "metadata": {},
   "outputs": [
    {
     "data": {
      "text/plain": [
       "Index(['Rk', 'Player', 'Pos', 'Age', 'Tm', 'G', 'GS', 'MP', 'FG', 'FGA', 'FG%',\n",
       "       '3P', '3PA', '3P%', '2P', '2PA', '2P%', 'FT', 'FTA', 'FT%', 'ORB',\n",
       "       'DRB', 'TRB', 'AST', 'STL', 'BLK', 'TOV', 'PF', 'PTS'],\n",
       "      dtype='object')"
      ]
     },
     "execution_count": 5,
     "metadata": {},
     "output_type": "execute_result"
    }
   ],
   "source": [
    "#column names\n",
    "df.columns"
   ]
  },
  {
   "cell_type": "markdown",
   "metadata": {},
   "source": [
    "### Data Cleanup\n",
    "#### Removing Invalid Rows\n",
    "The first step in data preparation is to remove any invalid rows from the dataset. We begin by first checking how many empty values exist in the dataset."
   ]
  },
  {
   "cell_type": "markdown",
   "metadata": {},
   "source": [
    "### Before we actually start with the data cleaning we keep a copy of the original data set i.e., the raw data provided to us."
   ]
  },
  {
   "cell_type": "code",
   "execution_count": 6,
   "metadata": {},
   "outputs": [
    {
     "data": {
      "text/plain": [
       "((512, 29), (512, 29))"
      ]
     },
     "execution_count": 6,
     "metadata": {},
     "output_type": "execute_result"
    }
   ],
   "source": [
    "#Creating copy of original data\n",
    "df_copy = df.copy()\n",
    "df_copy.shape, df.shape"
   ]
  },
  {
   "cell_type": "code",
   "execution_count": 7,
   "metadata": {},
   "outputs": [
    {
     "name": "stdout",
     "output_type": "stream",
     "text": [
      "Number of missing values by feature:\n",
      "Rk         0\n",
      "Player     0\n",
      "Pos        0\n",
      "Age        0\n",
      "Tm         0\n",
      "G          0\n",
      "GS         0\n",
      "MP         0\n",
      "FG         0\n",
      "FGA        0\n",
      "FG%        3\n",
      "3P         0\n",
      "3PA        0\n",
      "3P%       33\n",
      "2P         0\n",
      "2PA        0\n",
      "2P%        7\n",
      "FT         0\n",
      "FTA        0\n",
      "FT%       32\n",
      "ORB        0\n",
      "DRB        0\n",
      "TRB        0\n",
      "AST        0\n",
      "STL        0\n",
      "BLK        0\n",
      "TOV        0\n",
      "PF         0\n",
      "PTS        0\n",
      "dtype: int64\n"
     ]
    }
   ],
   "source": [
    "print(\"Number of missing values by feature:\")\n",
    "#(df.isnull().sum()/df.shape[0])*100\n",
    "print(df.isnull().sum())\n"
   ]
  },
  {
   "cell_type": "code",
   "execution_count": 8,
   "metadata": {},
   "outputs": [
    {
     "data": {
      "text/html": [
       "<div>\n",
       "<style scoped>\n",
       "    .dataframe tbody tr th:only-of-type {\n",
       "        vertical-align: middle;\n",
       "    }\n",
       "\n",
       "    .dataframe tbody tr th {\n",
       "        vertical-align: top;\n",
       "    }\n",
       "\n",
       "    .dataframe thead th {\n",
       "        text-align: right;\n",
       "    }\n",
       "</style>\n",
       "<table border=\"1\" class=\"dataframe\">\n",
       "  <thead>\n",
       "    <tr style=\"text-align: right;\">\n",
       "      <th></th>\n",
       "      <th>Rk</th>\n",
       "      <th>Player</th>\n",
       "      <th>Pos</th>\n",
       "      <th>Age</th>\n",
       "      <th>Tm</th>\n",
       "      <th>G</th>\n",
       "      <th>GS</th>\n",
       "      <th>MP</th>\n",
       "      <th>FG</th>\n",
       "      <th>FGA</th>\n",
       "      <th>FG%</th>\n",
       "      <th>3P</th>\n",
       "      <th>3PA</th>\n",
       "      <th>3P%</th>\n",
       "      <th>2P</th>\n",
       "      <th>2PA</th>\n",
       "      <th>2P%</th>\n",
       "      <th>FT</th>\n",
       "      <th>FTA</th>\n",
       "      <th>FT%</th>\n",
       "      <th>ORB</th>\n",
       "      <th>DRB</th>\n",
       "      <th>TRB</th>\n",
       "      <th>AST</th>\n",
       "      <th>STL</th>\n",
       "      <th>BLK</th>\n",
       "      <th>TOV</th>\n",
       "      <th>PF</th>\n",
       "      <th>PTS</th>\n",
       "    </tr>\n",
       "  </thead>\n",
       "  <tbody>\n",
       "    <tr>\n",
       "      <th>0</th>\n",
       "      <td>1</td>\n",
       "      <td>Precious Achiuwa</td>\n",
       "      <td>PF</td>\n",
       "      <td>21</td>\n",
       "      <td>MIA</td>\n",
       "      <td>35</td>\n",
       "      <td>2</td>\n",
       "      <td>491</td>\n",
       "      <td>84</td>\n",
       "      <td>145</td>\n",
       "      <td>0.579</td>\n",
       "      <td>0</td>\n",
       "      <td>0</td>\n",
       "      <td>NaN</td>\n",
       "      <td>84</td>\n",
       "      <td>145</td>\n",
       "      <td>0.579</td>\n",
       "      <td>44</td>\n",
       "      <td>81</td>\n",
       "      <td>0.543</td>\n",
       "      <td>46</td>\n",
       "      <td>95</td>\n",
       "      <td>141</td>\n",
       "      <td>20</td>\n",
       "      <td>15</td>\n",
       "      <td>19</td>\n",
       "      <td>32</td>\n",
       "      <td>58</td>\n",
       "      <td>212</td>\n",
       "    </tr>\n",
       "    <tr>\n",
       "      <th>1</th>\n",
       "      <td>2</td>\n",
       "      <td>Jaylen Adams</td>\n",
       "      <td>PG</td>\n",
       "      <td>24</td>\n",
       "      <td>MIL</td>\n",
       "      <td>7</td>\n",
       "      <td>0</td>\n",
       "      <td>18</td>\n",
       "      <td>1</td>\n",
       "      <td>8</td>\n",
       "      <td>0.125</td>\n",
       "      <td>0</td>\n",
       "      <td>2</td>\n",
       "      <td>0.000</td>\n",
       "      <td>1</td>\n",
       "      <td>6</td>\n",
       "      <td>0.167</td>\n",
       "      <td>0</td>\n",
       "      <td>0</td>\n",
       "      <td>NaN</td>\n",
       "      <td>0</td>\n",
       "      <td>3</td>\n",
       "      <td>3</td>\n",
       "      <td>2</td>\n",
       "      <td>0</td>\n",
       "      <td>0</td>\n",
       "      <td>0</td>\n",
       "      <td>1</td>\n",
       "      <td>20000</td>\n",
       "    </tr>\n",
       "    <tr>\n",
       "      <th>2</th>\n",
       "      <td>3</td>\n",
       "      <td>Steven Adams</td>\n",
       "      <td>C</td>\n",
       "      <td>27</td>\n",
       "      <td>NOP</td>\n",
       "      <td>33</td>\n",
       "      <td>33</td>\n",
       "      <td>918</td>\n",
       "      <td>115</td>\n",
       "      <td>187</td>\n",
       "      <td>0.615</td>\n",
       "      <td>0</td>\n",
       "      <td>1</td>\n",
       "      <td>0.000</td>\n",
       "      <td>115</td>\n",
       "      <td>186</td>\n",
       "      <td>0.618</td>\n",
       "      <td>35</td>\n",
       "      <td>79</td>\n",
       "      <td>0.443</td>\n",
       "      <td>133</td>\n",
       "      <td>161</td>\n",
       "      <td>294</td>\n",
       "      <td>69</td>\n",
       "      <td>29</td>\n",
       "      <td>20</td>\n",
       "      <td>50</td>\n",
       "      <td>63</td>\n",
       "      <td>265</td>\n",
       "    </tr>\n",
       "    <tr>\n",
       "      <th>3</th>\n",
       "      <td>4</td>\n",
       "      <td>Bam Adebayo</td>\n",
       "      <td>C</td>\n",
       "      <td>23</td>\n",
       "      <td>MIA</td>\n",
       "      <td>33</td>\n",
       "      <td>33</td>\n",
       "      <td>1119</td>\n",
       "      <td>236</td>\n",
       "      <td>419</td>\n",
       "      <td>0.563</td>\n",
       "      <td>2</td>\n",
       "      <td>6</td>\n",
       "      <td>0.050</td>\n",
       "      <td>234</td>\n",
       "      <td>413</td>\n",
       "      <td>0.567</td>\n",
       "      <td>160</td>\n",
       "      <td>189</td>\n",
       "      <td>0.847</td>\n",
       "      <td>72</td>\n",
       "      <td>241</td>\n",
       "      <td>313</td>\n",
       "      <td>179</td>\n",
       "      <td>29</td>\n",
       "      <td>34</td>\n",
       "      <td>98</td>\n",
       "      <td>80</td>\n",
       "      <td>634</td>\n",
       "    </tr>\n",
       "    <tr>\n",
       "      <th>4</th>\n",
       "      <td>5</td>\n",
       "      <td>LaMarcus Aldridge</td>\n",
       "      <td>C</td>\n",
       "      <td>35</td>\n",
       "      <td>SAS</td>\n",
       "      <td>21</td>\n",
       "      <td>18</td>\n",
       "      <td>544</td>\n",
       "      <td>115</td>\n",
       "      <td>248</td>\n",
       "      <td>0.464</td>\n",
       "      <td>27</td>\n",
       "      <td>75</td>\n",
       "      <td>0.360</td>\n",
       "      <td>88</td>\n",
       "      <td>173</td>\n",
       "      <td>0.509</td>\n",
       "      <td>31</td>\n",
       "      <td>37</td>\n",
       "      <td>0.838</td>\n",
       "      <td>17</td>\n",
       "      <td>77</td>\n",
       "      <td>94</td>\n",
       "      <td>36</td>\n",
       "      <td>8</td>\n",
       "      <td>18</td>\n",
       "      <td>20</td>\n",
       "      <td>36</td>\n",
       "      <td>28800</td>\n",
       "    </tr>\n",
       "    <tr>\n",
       "      <th>...</th>\n",
       "      <td>...</td>\n",
       "      <td>...</td>\n",
       "      <td>...</td>\n",
       "      <td>...</td>\n",
       "      <td>...</td>\n",
       "      <td>...</td>\n",
       "      <td>...</td>\n",
       "      <td>...</td>\n",
       "      <td>...</td>\n",
       "      <td>...</td>\n",
       "      <td>...</td>\n",
       "      <td>...</td>\n",
       "      <td>...</td>\n",
       "      <td>...</td>\n",
       "      <td>...</td>\n",
       "      <td>...</td>\n",
       "      <td>...</td>\n",
       "      <td>...</td>\n",
       "      <td>...</td>\n",
       "      <td>...</td>\n",
       "      <td>...</td>\n",
       "      <td>...</td>\n",
       "      <td>...</td>\n",
       "      <td>...</td>\n",
       "      <td>...</td>\n",
       "      <td>...</td>\n",
       "      <td>...</td>\n",
       "      <td>...</td>\n",
       "      <td>...</td>\n",
       "    </tr>\n",
       "    <tr>\n",
       "      <th>507</th>\n",
       "      <td>488</td>\n",
       "      <td>Delon Wright</td>\n",
       "      <td>SG</td>\n",
       "      <td>28</td>\n",
       "      <td>DET</td>\n",
       "      <td>29</td>\n",
       "      <td>24</td>\n",
       "      <td>848</td>\n",
       "      <td>110</td>\n",
       "      <td>235</td>\n",
       "      <td>0.468</td>\n",
       "      <td>28</td>\n",
       "      <td>73</td>\n",
       "      <td>0.384</td>\n",
       "      <td>82</td>\n",
       "      <td>162</td>\n",
       "      <td>0.506</td>\n",
       "      <td>62</td>\n",
       "      <td>79</td>\n",
       "      <td>0.785</td>\n",
       "      <td>32</td>\n",
       "      <td>101</td>\n",
       "      <td>133</td>\n",
       "      <td>141</td>\n",
       "      <td>42</td>\n",
       "      <td>15</td>\n",
       "      <td>35</td>\n",
       "      <td>32</td>\n",
       "      <td>310</td>\n",
       "    </tr>\n",
       "    <tr>\n",
       "      <th>508</th>\n",
       "      <td>489</td>\n",
       "      <td>Thaddeus Young</td>\n",
       "      <td>PF</td>\n",
       "      <td>32</td>\n",
       "      <td>CHI</td>\n",
       "      <td>30</td>\n",
       "      <td>0</td>\n",
       "      <td>760</td>\n",
       "      <td>167</td>\n",
       "      <td>274</td>\n",
       "      <td>0.609</td>\n",
       "      <td>5</td>\n",
       "      <td>22</td>\n",
       "      <td>0.227</td>\n",
       "      <td>162</td>\n",
       "      <td>252</td>\n",
       "      <td>0.643</td>\n",
       "      <td>23</td>\n",
       "      <td>46</td>\n",
       "      <td>0.500</td>\n",
       "      <td>71</td>\n",
       "      <td>105</td>\n",
       "      <td>176</td>\n",
       "      <td>131</td>\n",
       "      <td>42</td>\n",
       "      <td>17</td>\n",
       "      <td>56</td>\n",
       "      <td>81</td>\n",
       "      <td>362</td>\n",
       "    </tr>\n",
       "    <tr>\n",
       "      <th>509</th>\n",
       "      <td>490</td>\n",
       "      <td>Trae Young</td>\n",
       "      <td>PG</td>\n",
       "      <td>22</td>\n",
       "      <td>ATL</td>\n",
       "      <td>34</td>\n",
       "      <td>34</td>\n",
       "      <td>1182</td>\n",
       "      <td>262</td>\n",
       "      <td>610</td>\n",
       "      <td>0.430</td>\n",
       "      <td>85</td>\n",
       "      <td>225</td>\n",
       "      <td>0.378</td>\n",
       "      <td>177</td>\n",
       "      <td>385</td>\n",
       "      <td>0.460</td>\n",
       "      <td>288</td>\n",
       "      <td>328</td>\n",
       "      <td>0.878</td>\n",
       "      <td>25</td>\n",
       "      <td>117</td>\n",
       "      <td>142</td>\n",
       "      <td>321</td>\n",
       "      <td>30</td>\n",
       "      <td>8</td>\n",
       "      <td>149</td>\n",
       "      <td>70</td>\n",
       "      <td>897</td>\n",
       "    </tr>\n",
       "    <tr>\n",
       "      <th>510</th>\n",
       "      <td>491</td>\n",
       "      <td>Cody Zeller</td>\n",
       "      <td>C</td>\n",
       "      <td>28</td>\n",
       "      <td>CHO</td>\n",
       "      <td>18</td>\n",
       "      <td>15</td>\n",
       "      <td>421</td>\n",
       "      <td>73</td>\n",
       "      <td>142</td>\n",
       "      <td>0.514</td>\n",
       "      <td>3</td>\n",
       "      <td>19</td>\n",
       "      <td>0.158</td>\n",
       "      <td>70</td>\n",
       "      <td>123</td>\n",
       "      <td>0.569</td>\n",
       "      <td>25</td>\n",
       "      <td>33</td>\n",
       "      <td>0.758</td>\n",
       "      <td>46</td>\n",
       "      <td>90</td>\n",
       "      <td>136</td>\n",
       "      <td>44</td>\n",
       "      <td>11</td>\n",
       "      <td>11</td>\n",
       "      <td>20</td>\n",
       "      <td>47</td>\n",
       "      <td>174</td>\n",
       "    </tr>\n",
       "    <tr>\n",
       "      <th>511</th>\n",
       "      <td>492</td>\n",
       "      <td>Ivica Zubac</td>\n",
       "      <td>C</td>\n",
       "      <td>23</td>\n",
       "      <td>LAC</td>\n",
       "      <td>38</td>\n",
       "      <td>1</td>\n",
       "      <td>753</td>\n",
       "      <td>120</td>\n",
       "      <td>182</td>\n",
       "      <td>0.659</td>\n",
       "      <td>0</td>\n",
       "      <td>1</td>\n",
       "      <td>0.000</td>\n",
       "      <td>120</td>\n",
       "      <td>181</td>\n",
       "      <td>0.663</td>\n",
       "      <td>71</td>\n",
       "      <td>86</td>\n",
       "      <td>0.826</td>\n",
       "      <td>90</td>\n",
       "      <td>176</td>\n",
       "      <td>266</td>\n",
       "      <td>43</td>\n",
       "      <td>14</td>\n",
       "      <td>30</td>\n",
       "      <td>39</td>\n",
       "      <td>228</td>\n",
       "      <td>311</td>\n",
       "    </tr>\n",
       "  </tbody>\n",
       "</table>\n",
       "<p>512 rows × 29 columns</p>\n",
       "</div>"
      ],
      "text/plain": [
       "      Rk             Player Pos  Age    Tm   G  GS    MP   FG  FGA    FG%  3P  \\\n",
       "0      1   Precious Achiuwa  PF   21   MIA  35   2   491   84  145  0.579   0   \n",
       "1      2       Jaylen Adams  PG   24   MIL   7   0    18    1    8  0.125   0   \n",
       "2      3       Steven Adams   C   27   NOP  33  33   918  115  187  0.615   0   \n",
       "3      4        Bam Adebayo   C   23   MIA  33  33  1119  236  419  0.563   2   \n",
       "4      5  LaMarcus Aldridge   C   35  SAS   21  18   544  115  248  0.464  27   \n",
       "..   ...                ...  ..  ...   ...  ..  ..   ...  ...  ...    ...  ..   \n",
       "507  488       Delon Wright  SG   28   DET  29  24   848  110  235  0.468  28   \n",
       "508  489     Thaddeus Young  PF   32   CHI  30   0   760  167  274  0.609   5   \n",
       "509  490         Trae Young  PG   22   ATL  34  34  1182  262  610  0.430  85   \n",
       "510  491        Cody Zeller   C   28   CHO  18  15   421   73  142  0.514   3   \n",
       "511  492        Ivica Zubac   C   23   LAC  38   1   753  120  182  0.659   0   \n",
       "\n",
       "     3PA    3P%   2P  2PA    2P%   FT  FTA    FT%  ORB  DRB  TRB  AST  STL  \\\n",
       "0      0    NaN   84  145  0.579   44   81  0.543   46   95  141   20   15   \n",
       "1      2  0.000    1    6  0.167    0    0    NaN    0    3    3    2    0   \n",
       "2      1  0.000  115  186  0.618   35   79  0.443  133  161  294   69   29   \n",
       "3      6  0.050  234  413  0.567  160  189  0.847   72  241  313  179   29   \n",
       "4     75  0.360   88  173  0.509   31   37  0.838   17   77   94   36    8   \n",
       "..   ...    ...  ...  ...    ...  ...  ...    ...  ...  ...  ...  ...  ...   \n",
       "507   73  0.384   82  162  0.506   62   79  0.785   32  101  133  141   42   \n",
       "508   22  0.227  162  252  0.643   23   46  0.500   71  105  176  131   42   \n",
       "509  225  0.378  177  385  0.460  288  328  0.878   25  117  142  321   30   \n",
       "510   19  0.158   70  123  0.569   25   33  0.758   46   90  136   44   11   \n",
       "511    1  0.000  120  181  0.663   71   86  0.826   90  176  266   43   14   \n",
       "\n",
       "     BLK  TOV   PF    PTS  \n",
       "0     19   32   58    212  \n",
       "1      0    0    1  20000  \n",
       "2     20   50   63    265  \n",
       "3     34   98   80    634  \n",
       "4     18   20   36  28800  \n",
       "..   ...  ...  ...    ...  \n",
       "507   15   35   32    310  \n",
       "508   17   56   81    362  \n",
       "509    8  149   70    897  \n",
       "510   11   20   47    174  \n",
       "511   30   39  228    311  \n",
       "\n",
       "[512 rows x 29 columns]"
      ]
     },
     "execution_count": 8,
     "metadata": {},
     "output_type": "execute_result"
    }
   ],
   "source": [
    "#verify the copied data by displaying it\n",
    "\n",
    "df_copy"
   ]
  },
  {
   "cell_type": "code",
   "execution_count": 9,
   "metadata": {},
   "outputs": [
    {
     "data": {
      "text/plain": [
       "(512, 29)"
      ]
     },
     "execution_count": 9,
     "metadata": {},
     "output_type": "execute_result"
    }
   ],
   "source": [
    "#Re-aranging players column at index 0 to avoid it to be considered as numerical or categorical variable.\n",
    "cols = list(df.columns)\n",
    "cols = cols[1::2] + cols[::2]\n",
    "df_copy = df_copy[cols]\n",
    "df_copy.shape"
   ]
  },
  {
   "cell_type": "code",
   "execution_count": 10,
   "metadata": {},
   "outputs": [
    {
     "data": {
      "text/plain": [
       "['Pos', 'Tm']"
      ]
     },
     "execution_count": 10,
     "metadata": {},
     "output_type": "execute_result"
    }
   ],
   "source": [
    "df_copy = df_copy.iloc[:,1:]\n",
    "categorical_column_names = df_copy.columns[df_copy.dtypes==object].tolist()\n",
    "categorical_column_names"
   ]
  },
  {
   "cell_type": "code",
   "execution_count": 11,
   "metadata": {},
   "outputs": [
    {
     "name": "stdout",
     "output_type": "stream",
     "text": [
      "\n",
      "Unique values in Pos\n",
      "['PF' 'PG' 'C' 'SG' 'SG ' 'SF' 'SGa' 'SF.' 'PFa' 'PF ' 'C ' 'PG-SG ' 'sg'\n",
      " 'Sf' 'SF-PF' 'pg' 'Pg']\n",
      "\n",
      "Unique values in Tm\n",
      "['MIA' 'MIL' 'NOP' 'SAS ' 'PHO' 'MEM' 'TOT' 'BRK ' 'CLE' 'ORL' 'LAL' 'POR'\n",
      " 'TOR' 'CHI' 'WAS' 'UTA' 'SAC' 'CHO' 'NYK' 'DEN' 'SAS' 'LAC' 'GSW' 'OKC'\n",
      " 'MIN' 'DET' 'DAL' 'IND' 'ATL' 'PHI' 'BRK' 'BOS' 'HOU' 'OKC ' 'DET '\n",
      " 'MIL ' 'ORL ' 'CLE ' 'H0U' 'NyK' 'MIA ' 'IND ' 'GSW ' 'MEM ']\n",
      "\n",
      "Number of negative values in Age\n",
      "1\n",
      "\n",
      "Number of negative values in G\n",
      "0\n",
      "\n",
      "Number of negative values in MP\n",
      "0\n",
      "\n",
      "Number of negative values in FGA\n",
      "0\n",
      "\n",
      "Number of negative values in 3P\n",
      "0\n",
      "\n",
      "Number of negative values in 3P%\n",
      "0\n",
      "\n",
      "Number of negative values in 2PA\n",
      "0\n",
      "\n",
      "Number of negative values in FT\n",
      "0\n",
      "\n",
      "Number of negative values in FT%\n",
      "0\n",
      "\n",
      "Number of negative values in DRB\n",
      "0\n",
      "\n",
      "Number of negative values in AST\n",
      "0\n",
      "\n",
      "Number of negative values in BLK\n",
      "0\n",
      "\n",
      "Number of negative values in PF\n",
      "0\n",
      "\n",
      "Number of negative values in Rk\n",
      "0\n",
      "\n",
      "Number of negative values in GS\n",
      "0\n",
      "\n",
      "Number of negative values in FG\n",
      "0\n",
      "\n",
      "Number of negative values in FG%\n",
      "0\n",
      "\n",
      "Number of negative values in 3PA\n",
      "0\n",
      "\n",
      "Number of negative values in 2P\n",
      "0\n",
      "\n",
      "Number of negative values in 2P%\n",
      "0\n",
      "\n",
      "Number of negative values in FTA\n",
      "0\n",
      "\n",
      "Number of negative values in ORB\n",
      "0\n",
      "\n",
      "Number of negative values in TRB\n",
      "0\n",
      "\n",
      "Number of negative values in STL\n",
      "0\n",
      "\n",
      "Number of negative values in TOV\n",
      "0\n",
      "\n",
      "Number of negative values in PTS\n",
      "0\n",
      "\n",
      "Number of negative values in Rank\n",
      " 0\n"
     ]
    }
   ],
   "source": [
    "# For the categorical features we simply display the unique values in each field.\n",
    "# This will pick up any odd categories or mispellings.\n",
    "for name in categorical_column_names:\n",
    "    print(\"\\nUnique values in \" + name)\n",
    "    print(df_copy[name].unique())   \n",
    "\n",
    "# To check the numeric features we ensure that none of the values are negative.\n",
    "# None of the numeric features of our dataset are valid if they are negative.\n",
    "for name in df_copy.columns:\n",
    "    if name not in categorical_column_names:\n",
    "        print(\"\\nNumber of negative values in \" + name)\n",
    "        print(len(df_copy[df_copy[name] < 0]))\n",
    "\n",
    "print(\"\\nNumber of negative values in Rank\\n\",format((df_copy['Rk'].values<0).sum()))"
   ]
  },
  {
   "cell_type": "code",
   "execution_count": 12,
   "metadata": {},
   "outputs": [
    {
     "name": "stdout",
     "output_type": "stream",
     "text": [
      "\n",
      "Number of negative values in Age\n",
      "0\n",
      "\n",
      "Number of negative values in G\n",
      "0\n",
      "\n",
      "Number of negative values in MP\n",
      "0\n",
      "\n",
      "Number of negative values in FGA\n",
      "0\n",
      "\n",
      "Number of negative values in 3P\n",
      "0\n",
      "\n",
      "Number of negative values in 3P%\n",
      "0\n",
      "\n",
      "Number of negative values in 2PA\n",
      "0\n",
      "\n",
      "Number of negative values in FT\n",
      "0\n",
      "\n",
      "Number of negative values in FT%\n",
      "0\n",
      "\n",
      "Number of negative values in DRB\n",
      "0\n",
      "\n",
      "Number of negative values in AST\n",
      "0\n",
      "\n",
      "Number of negative values in BLK\n",
      "0\n",
      "\n",
      "Number of negative values in PF\n",
      "0\n",
      "\n",
      "Number of negative values in Rk\n",
      "0\n",
      "\n",
      "Number of negative values in GS\n",
      "0\n",
      "\n",
      "Number of negative values in FG\n",
      "0\n",
      "\n",
      "Number of negative values in FG%\n",
      "0\n",
      "\n",
      "Number of negative values in 3PA\n",
      "0\n",
      "\n",
      "Number of negative values in 2P\n",
      "0\n",
      "\n",
      "Number of negative values in 2P%\n",
      "0\n",
      "\n",
      "Number of negative values in FTA\n",
      "0\n",
      "\n",
      "Number of negative values in ORB\n",
      "0\n",
      "\n",
      "Number of negative values in TRB\n",
      "0\n",
      "\n",
      "Number of negative values in STL\n",
      "0\n",
      "\n",
      "Number of negative values in TOV\n",
      "0\n",
      "\n",
      "Number of negative values in PTS\n",
      "0\n",
      "\n",
      "Number of negative values in Rank\n",
      " 0\n"
     ]
    }
   ],
   "source": [
    "#Fixing negative values in numerical variables \n",
    "df_copy[df_copy.columns[df_copy.dtypes != np.object]] = df_copy[df_copy.columns[df_copy.dtypes != np.object]].abs()\n",
    "\n",
    "for name in df_copy.columns:\n",
    "    if name not in categorical_column_names:\n",
    "        print(\"\\nNumber of negative values in \" + name)\n",
    "        print(len(df_copy[df_copy[name] < 0]))\n",
    "\n",
    "print(\"\\nNumber of negative values in Rank\\n\",format((df_copy['Rk'].values<0).sum()))"
   ]
  },
  {
   "cell_type": "code",
   "execution_count": 13,
   "metadata": {},
   "outputs": [],
   "source": [
    "#Fixing white spaces\n",
    "for name in categorical_column_names:\n",
    "    df_copy[name] = df_copy[name].str.strip()\n",
    "    df_copy[name] = df_copy[name].str.upper()\n",
    "    df_copy['Pos'].replace({\"SGA\":\"SG\",\"PFA\":\"PF\",\"SF.\":\"SF\"},inplace=True)\n",
    "    df_copy['Tm'].replace({\"H0U\":\"HOU\"},inplace=True)"
   ]
  },
  {
   "cell_type": "code",
   "execution_count": 14,
   "metadata": {},
   "outputs": [
    {
     "name": "stdout",
     "output_type": "stream",
     "text": [
      "\n",
      "Unique values in Pos\n",
      "['PF' 'PG' 'C' 'SG' 'SF' 'PG-SG' 'SF-PF']\n",
      "\n",
      "Unique values in Tm\n",
      "['MIA' 'MIL' 'NOP' 'SAS' 'PHO' 'MEM' 'TOT' 'BRK' 'CLE' 'ORL' 'LAL' 'POR'\n",
      " 'TOR' 'CHI' 'WAS' 'UTA' 'SAC' 'CHO' 'NYK' 'DEN' 'LAC' 'GSW' 'OKC' 'MIN'\n",
      " 'DET' 'DAL' 'IND' 'ATL' 'PHI' 'BOS' 'HOU']\n"
     ]
    }
   ],
   "source": [
    "#Cross - checking fixes\n",
    "for name in categorical_column_names:\n",
    "    print(\"\\nUnique values in \" + name)\n",
    "    print(df_copy[name].unique())   "
   ]
  },
  {
   "cell_type": "markdown",
   "metadata": {},
   "source": [
    "### Verification of age we replace it with median:\n",
    "##### we keep the limit to 120 :"
   ]
  },
  {
   "cell_type": "code",
   "execution_count": 15,
   "metadata": {},
   "outputs": [
    {
     "name": "stdout",
     "output_type": "stream",
     "text": [
      "280.0 162\n"
     ]
    }
   ],
   "source": [
    "for i in range(0,511):\n",
    "    if((df_copy.iloc[i]['Age'])>120):\n",
    "        print(df_copy.iloc[i]['Age'], i)\n"
   ]
  },
  {
   "cell_type": "code",
   "execution_count": 16,
   "metadata": {},
   "outputs": [
    {
     "name": "stdout",
     "output_type": "stream",
     "text": [
      "25.0\n"
     ]
    }
   ],
   "source": [
    "df_copy.loc[162,'Age']=df_copy['Age'].median()\n",
    "print(df_copy.loc[162,'Age'])"
   ]
  },
  {
   "cell_type": "markdown",
   "metadata": {},
   "source": [
    "### Cleaning of FG% :"
   ]
  },
  {
   "cell_type": "code",
   "execution_count": 17,
   "metadata": {},
   "outputs": [
    {
     "name": "stdout",
     "output_type": "stream",
     "text": [
      "      FG  FGA  FG%\n",
      "178  0.0  0.0  NaN\n",
      "190  0.0  0.0  NaN\n",
      "304  0.0  0.0  NaN\n"
     ]
    }
   ],
   "source": [
    "columns_1 = ['FG','FGA','FG%']\n",
    "print(df_copy[df_copy[\"FG%\"].isnull()][columns_1])\n"
   ]
  },
  {
   "cell_type": "code",
   "execution_count": 18,
   "metadata": {},
   "outputs": [
    {
     "data": {
      "text/plain": [
       "0"
      ]
     },
     "execution_count": 18,
     "metadata": {},
     "output_type": "execute_result"
    }
   ],
   "source": [
    "# we see that the NAN values are because we have divided 0/0 so we simply replace the nan by 0.\n",
    "df_copy['FG%']= df_copy['FG%'].replace(np.nan,0)\n",
    "                                       \n",
    "df_copy['FG%'].isnull().sum()"
   ]
  },
  {
   "cell_type": "code",
   "execution_count": 19,
   "metadata": {},
   "outputs": [
    {
     "name": "stdout",
     "output_type": "stream",
     "text": [
      "Empty DataFrame\n",
      "Columns: [FG, FGA, FG%]\n",
      "Index: []\n"
     ]
    }
   ],
   "source": [
    "columns_1 = ['FG','FGA','FG%']\n",
    "print(df_copy[df_copy[\"FG%\"].isnull()][columns_1])"
   ]
  },
  {
   "cell_type": "code",
   "execution_count": 20,
   "metadata": {},
   "outputs": [
    {
     "name": "stdout",
     "output_type": "stream",
     "text": [
      "0.313 row 453\n",
      "0.312\n",
      "================================\n"
     ]
    }
   ],
   "source": [
    "\n",
    "FGPER_new = ((df_copy['FG']/df_copy['FGA']).round(3)).replace(np.nan,0)\n",
    "\n",
    "\n",
    "for i in range(0,511):\n",
    "    if((df_copy.iloc[i]['FG%']).round(3) != FGPER_new.iloc[i]):\n",
    "        print(df_copy.iloc[i]['FG%'],'row',i)\n",
    "        print(FGPER_new.iloc[i])\n",
    "        print(\"================================\")\n",
    "\n",
    "\n",
    "    "
   ]
  },
  {
   "cell_type": "code",
   "execution_count": 21,
   "metadata": {},
   "outputs": [],
   "source": [
    "#although according to my understainding we do not need to change this value as the round up value is very close\n",
    "#313 is almost equal to 312 and could we neglected we still change it.\n",
    "df_copy.loc[453,'FG%']=0.312"
   ]
  },
  {
   "cell_type": "markdown",
   "metadata": {},
   "source": [
    "### Cleaning For 3p% :"
   ]
  },
  {
   "cell_type": "code",
   "execution_count": 22,
   "metadata": {},
   "outputs": [
    {
     "name": "stdout",
     "output_type": "stream",
     "text": [
      "      3P  3PA  3P%\n",
      "0    0.0  0.0  NaN\n",
      "9    0.0  0.0  NaN\n",
      "14   0.0  0.0  NaN\n",
      "23   0.0  0.0  NaN\n",
      "45   0.0  0.0  NaN\n",
      "55   0.0  0.0  NaN\n",
      "60   0.0  0.0  NaN\n",
      "64   0.0  0.0  NaN\n",
      "71   0.0  0.0  NaN\n",
      "81   0.0  0.0  NaN\n",
      "85   0.0  0.0  NaN\n",
      "103  0.0  0.0  NaN\n",
      "112  0.0  0.0  NaN\n",
      "122  0.0  0.0  NaN\n",
      "135  0.0  0.0  NaN\n",
      "137  0.0  0.0  NaN\n",
      "139  0.0  0.0  NaN\n",
      "152  0.0  0.0  NaN\n",
      "178  0.0  0.0  NaN\n",
      "187  0.0  0.0  NaN\n",
      "190  0.0  0.0  NaN\n",
      "195  0.0  0.0  NaN\n",
      "196  0.0  0.0  NaN\n",
      "243  0.0  0.0  NaN\n",
      "252  0.0  0.0  NaN\n",
      "304  0.0  0.0  NaN\n",
      "376  0.0  0.0  NaN\n",
      "377  0.0  0.0  NaN\n",
      "378  0.0  0.0  NaN\n",
      "382  0.0  0.0  NaN\n",
      "383  0.0  0.0  NaN\n",
      "404  0.0  0.0  NaN\n",
      "411  0.0  0.0  NaN\n"
     ]
    }
   ],
   "source": [
    "columns_1 = ['3P','3PA','3P%']\n",
    "print(df_copy[df_copy[\"3P%\"].isnull()][columns_1])"
   ]
  },
  {
   "cell_type": "code",
   "execution_count": 23,
   "metadata": {},
   "outputs": [
    {
     "data": {
      "text/plain": [
       "0"
      ]
     },
     "execution_count": 23,
     "metadata": {},
     "output_type": "execute_result"
    }
   ],
   "source": [
    "# we see that the NAN values are because we have divided 0/0 so we simply replace the nan by 0.\n",
    "df_copy['3P%']= df_copy['3P%'].replace(np.nan,0)\n",
    "                                       \n",
    "df_copy['3P%'].isnull().sum()"
   ]
  },
  {
   "cell_type": "code",
   "execution_count": 24,
   "metadata": {},
   "outputs": [
    {
     "name": "stdout",
     "output_type": "stream",
     "text": [
      "Empty DataFrame\n",
      "Columns: [3P, 3PA, 3P%]\n",
      "Index: []\n"
     ]
    }
   ],
   "source": [
    "columns_1 = ['3P','3PA','3P%']\n",
    "print(df_copy[df_copy[\"3P%\"].isnull()][columns_1])"
   ]
  },
  {
   "cell_type": "code",
   "execution_count": 25,
   "metadata": {},
   "outputs": [
    {
     "name": "stdout",
     "output_type": "stream",
     "text": [
      "0.05 rows 3\n",
      "0.333\n",
      "================================\n",
      "0.05 rows 8\n",
      "0.5\n",
      "================================\n",
      "0.73 rows 25\n",
      "0.37\n",
      "================================\n",
      "0.313 rows 56\n",
      "0.312\n",
      "================================\n",
      "0.313 rows 362\n",
      "0.312\n",
      "================================\n"
     ]
    }
   ],
   "source": [
    "\n",
    "threeP_PER = ((df_copy['3P']/df_copy['3PA']).round(3)).replace(np.nan,0)\n",
    "\n",
    "\n",
    "for i in range(0,511):\n",
    "    if((df_copy.iloc[i]['3P%']).round(3) != threeP_PER.iloc[i]):\n",
    "        print(df_copy.iloc[i]['3P%'] , \"rows\",i)\n",
    "        print(threeP_PER.iloc[i])\n",
    "        \n",
    "\n",
    "        print(\"================================\")"
   ]
  },
  {
   "cell_type": "code",
   "execution_count": 26,
   "metadata": {},
   "outputs": [],
   "source": [
    "# Here we see that some the values are not correct therefore we replace them with correct values.\n",
    "\n",
    "df_copy.loc[3,'3P%']=0.333\n",
    "df_copy.loc[8,'3P%']=0.5\n",
    "df_copy.loc[25,'3P%']=0.37\n",
    "df_copy.loc[56,'3P%']=0.312\n",
    "df_copy.loc[362,'3P%']=0.312\n",
    "\n"
   ]
  },
  {
   "cell_type": "code",
   "execution_count": 27,
   "metadata": {},
   "outputs": [
    {
     "name": "stdout",
     "output_type": "stream",
     "text": [
      "Good to go:\n"
     ]
    }
   ],
   "source": [
    "#cross check fixes\n",
    "\n",
    "threeP_PER = ((df_copy['3P']/df_copy['3PA']).round(3)).replace(np.nan,0)\n",
    "\n",
    "\n",
    "for i in range(0,511):\n",
    "    if((df_copy.iloc[i]['3P%']).round(3) != threeP_PER.iloc[i]):\n",
    "        print(df_copy.iloc[i]['3P%'] , \"row\",i)\n",
    "        print(threeP_PER.iloc[i])\n",
    "        print(\"================================\")\n",
    "else:\n",
    "         print(\"Good to go:\")"
   ]
  },
  {
   "cell_type": "markdown",
   "metadata": {},
   "source": [
    "### Cleaning for 2P % :"
   ]
  },
  {
   "cell_type": "code",
   "execution_count": 28,
   "metadata": {},
   "outputs": [
    {
     "name": "stdout",
     "output_type": "stream",
     "text": [
      "      2P  2PA  2P%\n",
      "178  0.0  0.0  NaN\n",
      "190  0.0  0.0  NaN\n",
      "274  0.0  0.0  NaN\n",
      "304  0.0  0.0  NaN\n",
      "370  0.0  0.0  NaN\n",
      "435  0.0  0.0  NaN\n",
      "492  0.0  0.0  NaN\n"
     ]
    }
   ],
   "source": [
    "columns_1 = ['2P','2PA','2P%']\n",
    "print(df_copy[df_copy[\"2P%\"].isnull()][columns_1])"
   ]
  },
  {
   "cell_type": "code",
   "execution_count": 29,
   "metadata": {},
   "outputs": [
    {
     "data": {
      "text/plain": [
       "0"
      ]
     },
     "execution_count": 29,
     "metadata": {},
     "output_type": "execute_result"
    }
   ],
   "source": [
    "# we see that the NAN values are because we have divided 0/0 so we simply replace the nan by 0.\n",
    "df_copy['2P%']= df_copy['2P%'].replace(np.nan,0)\n",
    "                                       \n",
    "df_copy['2P%'].isnull().sum()"
   ]
  },
  {
   "cell_type": "code",
   "execution_count": 30,
   "metadata": {},
   "outputs": [
    {
     "name": "stdout",
     "output_type": "stream",
     "text": [
      "Empty DataFrame\n",
      "Columns: [2P, 2PA, 2P%]\n",
      "Index: []\n"
     ]
    }
   ],
   "source": [
    "columns_1 = ['2P','2PA','2P%']\n",
    "print(df_copy[df_copy[\"2P%\"].isnull()][columns_1])"
   ]
  },
  {
   "cell_type": "code",
   "execution_count": 31,
   "metadata": {},
   "outputs": [
    {
     "name": "stdout",
     "output_type": "stream",
     "text": [
      "0.313 row 347\n",
      "0.312\n",
      "================================\n"
     ]
    }
   ],
   "source": [
    "\n",
    "two_PER = ((df_copy['2P']/df_copy['2PA']).round(3)).replace(np.nan,0)\n",
    "\n",
    "\n",
    "for i in range(0,511):\n",
    "    if((df_copy.iloc[i]['2P%']).round(3) != two_PER.iloc[i]):\n",
    "        print(df_copy.iloc[i]['2P%'],'row',i)\n",
    "        print(two_PER.iloc[i])\n",
    "        print(\"================================\")"
   ]
  },
  {
   "cell_type": "code",
   "execution_count": 32,
   "metadata": {},
   "outputs": [],
   "source": [
    "#although according to my understainding we do not need to change this value as the round up value is very close\n",
    "#313 is almost equal to 312 and could we neglected we still change it.\n",
    "df_copy.loc[347,'2P%']=0.312"
   ]
  },
  {
   "cell_type": "markdown",
   "metadata": {},
   "source": [
    "### Cleaning for FT %"
   ]
  },
  {
   "cell_type": "code",
   "execution_count": 33,
   "metadata": {},
   "outputs": [
    {
     "name": "stdout",
     "output_type": "stream",
     "text": [
      "      FT  FTA  FT%\n",
      "1    0.0  0.0  NaN\n",
      "5    0.0  0.0  NaN\n",
      "40   0.0  0.0  NaN\n",
      "51   0.0  0.0  NaN\n",
      "56   0.0  0.0  NaN\n",
      "63   0.0  0.0  NaN\n",
      "103  0.0  0.0  NaN\n",
      "122  0.0  0.0  NaN\n",
      "127  0.0  0.0  NaN\n",
      "140  0.0  0.0  NaN\n",
      "149  0.0  0.0  NaN\n",
      "151  0.0  0.0  NaN\n",
      "178  0.0  0.0  NaN\n",
      "190  0.0  0.0  NaN\n",
      "226  0.0  0.0  NaN\n",
      "233  0.0  0.0  NaN\n",
      "261  0.0  0.0  NaN\n",
      "304  0.0  0.0  NaN\n",
      "326  0.0  0.0  NaN\n",
      "368  0.0  0.0  NaN\n",
      "370  0.0  0.0  NaN\n",
      "377  0.0  0.0  NaN\n",
      "380  0.0  0.0  NaN\n",
      "384  0.0  0.0  NaN\n",
      "397  0.0  0.0  NaN\n",
      "402  0.0  0.0  NaN\n",
      "430  0.0  0.0  NaN\n",
      "442  0.0  0.0  NaN\n",
      "460  0.0  0.0  NaN\n",
      "474  0.0  0.0  NaN\n",
      "486  0.0  0.0  NaN\n",
      "492  0.0  0.0  NaN\n"
     ]
    }
   ],
   "source": [
    "columns_1 = ['FT','FTA','FT%']\n",
    "print(df_copy[df_copy[\"FT%\"].isnull()][columns_1])"
   ]
  },
  {
   "cell_type": "code",
   "execution_count": 34,
   "metadata": {},
   "outputs": [
    {
     "data": {
      "text/plain": [
       "0"
      ]
     },
     "execution_count": 34,
     "metadata": {},
     "output_type": "execute_result"
    }
   ],
   "source": [
    "# we see that the NAN values are because we have divided 0/0 so we simply replace the nan by 0.\n",
    "df_copy['FT%']= df_copy['FT%'].replace(np.nan,0)\n",
    "                                       \n",
    "df_copy['FT%'].isnull().sum()"
   ]
  },
  {
   "cell_type": "code",
   "execution_count": 35,
   "metadata": {},
   "outputs": [
    {
     "name": "stdout",
     "output_type": "stream",
     "text": [
      "Empty DataFrame\n",
      "Columns: [FT, FTA, FT%]\n",
      "Index: []\n"
     ]
    }
   ],
   "source": [
    "columns_1 = ['FT','FTA','FT%']\n",
    "print(df_copy[df_copy[\"FT%\"].isnull()][columns_1])"
   ]
  },
  {
   "cell_type": "code",
   "execution_count": 36,
   "metadata": {},
   "outputs": [
    {
     "name": "stdout",
     "output_type": "stream",
     "text": [
      "0.613 row 165\n",
      "0.612\n",
      "================================\n"
     ]
    }
   ],
   "source": [
    "\n",
    "FT_PER = ((df_copy['FT']/df_copy['FTA']).round(3).replace(np.nan,0))\n",
    "\n",
    "\n",
    "for i in range(0,511):\n",
    "    if((df_copy.iloc[i]['FT%']).round(3) != FT_PER.iloc[i]):\n",
    "        print(df_copy.iloc[i]['FT%'],'row',i)\n",
    "        print(FT_PER.iloc[i])\n",
    "        print(\"================================\")"
   ]
  },
  {
   "cell_type": "code",
   "execution_count": 37,
   "metadata": {},
   "outputs": [],
   "source": [
    "#although according to my understainding we do not need to change this value as the round up value is very close\n",
    "#613 is almost equal to 612 and could we neglected we still change it.\n",
    "df_copy.loc[165,'FT%']=0.612"
   ]
  },
  {
   "cell_type": "markdown",
   "metadata": {},
   "source": [
    "### Checking the points table :"
   ]
  },
  {
   "cell_type": "code",
   "execution_count": 38,
   "metadata": {},
   "outputs": [
    {
     "name": "stdout",
     "output_type": "stream",
     "text": [
      "20000.0\n",
      "2.0\n",
      "================================\n",
      "28800.0\n",
      "288.0\n",
      "================================\n"
     ]
    }
   ],
   "source": [
    "#here we check if the points are greater than 2000 and if the given points are correctly calculated:\n",
    "\n",
    "new_points=3*df_copy['3P']+2*df_copy['2P']+df_copy['FT']\n",
    "\n",
    "for i in range(0,511):\n",
    "    if((df_copy.iloc[i]['PTS']) != new_points.iloc[i] or (df_copy.iloc[i]['PTS']>2000) ):\n",
    "        print(df_copy.iloc[i]['PTS'])\n",
    "        print(new_points.iloc[i])\n",
    "        print(\"================================\")\n"
   ]
  },
  {
   "cell_type": "code",
   "execution_count": 39,
   "metadata": {},
   "outputs": [],
   "source": [
    "#here we just replace the wrong points with the correct points derived from the previous observation:\n",
    "\n",
    "\n",
    "new_points=3*df_copy['3P']+2*df_copy['2P']+df_copy['FT']\n",
    "\n",
    "for i in range(0,511):\n",
    "    if((df_copy.iloc[i]['PTS'])>=2000):\n",
    "        df_copy['PTS']=df_copy['PTS'].replace((df_copy.iloc[i]['PTS']),new_points.iloc[i])"
   ]
  },
  {
   "cell_type": "code",
   "execution_count": 40,
   "metadata": {},
   "outputs": [
    {
     "name": "stdout",
     "output_type": "stream",
     "text": [
      "Cleaned Points\n"
     ]
    }
   ],
   "source": [
    "new_points=3*df_copy['3P']+2*df_copy['2P']+df_copy['FT']\n",
    "\n",
    "for i in range(0,511):\n",
    "    if((df_copy.iloc[i]['PTS']) != new_points.iloc[i]):\n",
    "        print(\"Not cleaned\")\n",
    "else:\n",
    "        print(\"Cleaned Points\")\n",
    "        \n",
    "    \n"
   ]
  },
  {
   "cell_type": "code",
   "execution_count": 41,
   "metadata": {},
   "outputs": [],
   "source": [
    "#Dropping NaN values\n",
    "#df_copy.dropna(axis=0,inplace=True)\n",
    "\n",
    "#Drop percentage\n",
    "#1-df_copy.shape[0]/df.shape[0]"
   ]
  },
  {
   "cell_type": "code",
   "execution_count": 42,
   "metadata": {},
   "outputs": [
    {
     "name": "stdout",
     "output_type": "stream",
     "text": [
      "\n",
      "Number of values greater than 82 in Games\n",
      " 0\n"
     ]
    }
   ],
   "source": [
    "print(\"\\nNumber of values greater than 82 in Games\\n\",format((df_copy['G'].values>82).sum()))"
   ]
  },
  {
   "cell_type": "code",
   "execution_count": 43,
   "metadata": {},
   "outputs": [
    {
     "data": {
      "text/plain": [
       "(512, 28)"
      ]
     },
     "execution_count": 43,
     "metadata": {},
     "output_type": "execute_result"
    }
   ],
   "source": [
    "df_copy.shape \n"
   ]
  },
  {
   "cell_type": "code",
   "execution_count": 44,
   "metadata": {
    "id": "RU9Pm6LKfToO"
   },
   "outputs": [
    {
     "data": {
      "text/plain": [
       "\"\\nMake sure that you write the final cleaned dataframe object into a csv file\\nXXXXX.to_csv('cleaned_NBA_players_stats.csv', index=False)\\nPlease replace XXXXX with your dataframe variable.\\n\""
      ]
     },
     "execution_count": 44,
     "metadata": {},
     "output_type": "execute_result"
    }
   ],
   "source": [
    "\"\"\"\n",
    "Make sure that you write the final cleaned dataframe object into a csv file\n",
    "XXXXX.to_csv('cleaned_NBA_players_stats.csv', index=False)\n",
    "Please replace XXXXX with your dataframe variable.\n",
    "\"\"\"\n"
   ]
  },
  {
   "cell_type": "code",
   "execution_count": 45,
   "metadata": {
    "id": "SpCdNXgLvdtv"
   },
   "outputs": [],
   "source": [
    "# Saving the cleaned data:\n",
    "df_copy.to_csv('cleaned_NBA_players_stats.csv', index=False)"
   ]
  },
  {
   "cell_type": "markdown",
   "metadata": {},
   "source": [
    "#### And that's our clean dataset. We can now proceed with our exploration of the data."
   ]
  },
  {
   "cell_type": "markdown",
   "metadata": {
    "id": "r-i5aIqXpPbu"
   },
   "source": [
    "# Task 2: Data Exploration"
   ]
  },
  {
   "cell_type": "markdown",
   "metadata": {
    "id": "QOY4K_neos9j"
   },
   "source": [
    "## Task 2.1 \n",
    "Explore the players' total points: Please analyze the composition of the total points of the top five players with the most points."
   ]
  },
  {
   "cell_type": "code",
   "execution_count": 46,
   "metadata": {},
   "outputs": [],
   "source": [
    " # Sort the data set by poinys in descending and take the top 5 players and analyse:\n",
    "    \n",
    "df_pts5=df_copy.sort_values(\n",
    "     by=\"PTS\",\n",
    "     ascending=False\n",
    "    ).head(5)\n"
   ]
  },
  {
   "cell_type": "code",
   "execution_count": 47,
   "metadata": {},
   "outputs": [
    {
     "data": {
      "text/html": [
       "<div>\n",
       "<style scoped>\n",
       "    .dataframe tbody tr th:only-of-type {\n",
       "        vertical-align: middle;\n",
       "    }\n",
       "\n",
       "    .dataframe tbody tr th {\n",
       "        vertical-align: top;\n",
       "    }\n",
       "\n",
       "    .dataframe thead th {\n",
       "        text-align: right;\n",
       "    }\n",
       "</style>\n",
       "<table border=\"1\" class=\"dataframe\">\n",
       "  <thead>\n",
       "    <tr style=\"text-align: right;\">\n",
       "      <th></th>\n",
       "      <th>Age</th>\n",
       "      <th>G</th>\n",
       "      <th>MP</th>\n",
       "      <th>FGA</th>\n",
       "      <th>3P</th>\n",
       "      <th>3P%</th>\n",
       "      <th>2PA</th>\n",
       "      <th>FT</th>\n",
       "      <th>FT%</th>\n",
       "      <th>DRB</th>\n",
       "      <th>AST</th>\n",
       "      <th>BLK</th>\n",
       "      <th>PF</th>\n",
       "      <th>Rk</th>\n",
       "      <th>Pos</th>\n",
       "      <th>Tm</th>\n",
       "      <th>GS</th>\n",
       "      <th>FG</th>\n",
       "      <th>FG%</th>\n",
       "      <th>3PA</th>\n",
       "      <th>2P</th>\n",
       "      <th>2P%</th>\n",
       "      <th>FTA</th>\n",
       "      <th>ORB</th>\n",
       "      <th>TRB</th>\n",
       "      <th>STL</th>\n",
       "      <th>TOV</th>\n",
       "      <th>PTS</th>\n",
       "    </tr>\n",
       "  </thead>\n",
       "  <tbody>\n",
       "    <tr>\n",
       "      <th>38</th>\n",
       "      <td>27.0</td>\n",
       "      <td>32.0</td>\n",
       "      <td>1143.0</td>\n",
       "      <td>764.0</td>\n",
       "      <td>74.0</td>\n",
       "      <td>0.335</td>\n",
       "      <td>543.0</td>\n",
       "      <td>243.0</td>\n",
       "      <td>0.903</td>\n",
       "      <td>131.0</td>\n",
       "      <td>151.0</td>\n",
       "      <td>14.0</td>\n",
       "      <td>82.0</td>\n",
       "      <td>37.0</td>\n",
       "      <td>SG</td>\n",
       "      <td>WAS</td>\n",
       "      <td>32.0</td>\n",
       "      <td>368.0</td>\n",
       "      <td>0.482</td>\n",
       "      <td>221.0</td>\n",
       "      <td>294.0</td>\n",
       "      <td>0.541</td>\n",
       "      <td>269.0</td>\n",
       "      <td>43.0</td>\n",
       "      <td>174.0</td>\n",
       "      <td>44.0</td>\n",
       "      <td>105.0</td>\n",
       "      <td>1053.0</td>\n",
       "    </tr>\n",
       "    <tr>\n",
       "      <th>110</th>\n",
       "      <td>32.0</td>\n",
       "      <td>35.0</td>\n",
       "      <td>1194.0</td>\n",
       "      <td>718.0</td>\n",
       "      <td>169.0</td>\n",
       "      <td>0.411</td>\n",
       "      <td>307.0</td>\n",
       "      <td>184.0</td>\n",
       "      <td>0.934</td>\n",
       "      <td>174.0</td>\n",
       "      <td>221.0</td>\n",
       "      <td>2.0</td>\n",
       "      <td>64.0</td>\n",
       "      <td>109.0</td>\n",
       "      <td>PG</td>\n",
       "      <td>GSW</td>\n",
       "      <td>35.0</td>\n",
       "      <td>343.0</td>\n",
       "      <td>0.478</td>\n",
       "      <td>411.0</td>\n",
       "      <td>174.0</td>\n",
       "      <td>0.567</td>\n",
       "      <td>197.0</td>\n",
       "      <td>17.0</td>\n",
       "      <td>191.0</td>\n",
       "      <td>46.0</td>\n",
       "      <td>111.0</td>\n",
       "      <td>1039.0</td>\n",
       "    </tr>\n",
       "    <tr>\n",
       "      <th>13</th>\n",
       "      <td>26.0</td>\n",
       "      <td>35.0</td>\n",
       "      <td>1189.0</td>\n",
       "      <td>661.0</td>\n",
       "      <td>39.0</td>\n",
       "      <td>0.285</td>\n",
       "      <td>524.0</td>\n",
       "      <td>240.0</td>\n",
       "      <td>0.661</td>\n",
       "      <td>344.0</td>\n",
       "      <td>205.0</td>\n",
       "      <td>49.0</td>\n",
       "      <td>106.0</td>\n",
       "      <td>12.0</td>\n",
       "      <td>PF</td>\n",
       "      <td>MIL</td>\n",
       "      <td>35.0</td>\n",
       "      <td>368.0</td>\n",
       "      <td>0.557</td>\n",
       "      <td>137.0</td>\n",
       "      <td>329.0</td>\n",
       "      <td>0.628</td>\n",
       "      <td>363.0</td>\n",
       "      <td>64.0</td>\n",
       "      <td>408.0</td>\n",
       "      <td>44.0</td>\n",
       "      <td>128.0</td>\n",
       "      <td>1015.0</td>\n",
       "    </tr>\n",
       "    <tr>\n",
       "      <th>277</th>\n",
       "      <td>30.0</td>\n",
       "      <td>34.0</td>\n",
       "      <td>1224.0</td>\n",
       "      <td>708.0</td>\n",
       "      <td>146.0</td>\n",
       "      <td>0.384</td>\n",
       "      <td>328.0</td>\n",
       "      <td>237.0</td>\n",
       "      <td>0.933</td>\n",
       "      <td>130.0</td>\n",
       "      <td>271.0</td>\n",
       "      <td>9.0</td>\n",
       "      <td>53.0</td>\n",
       "      <td>268.0</td>\n",
       "      <td>PG</td>\n",
       "      <td>POR</td>\n",
       "      <td>34.0</td>\n",
       "      <td>315.0</td>\n",
       "      <td>0.445</td>\n",
       "      <td>380.0</td>\n",
       "      <td>169.0</td>\n",
       "      <td>0.515</td>\n",
       "      <td>254.0</td>\n",
       "      <td>15.0</td>\n",
       "      <td>145.0</td>\n",
       "      <td>35.0</td>\n",
       "      <td>111.0</td>\n",
       "      <td>1013.0</td>\n",
       "    </tr>\n",
       "    <tr>\n",
       "      <th>240</th>\n",
       "      <td>25.0</td>\n",
       "      <td>36.0</td>\n",
       "      <td>1293.0</td>\n",
       "      <td>668.0</td>\n",
       "      <td>56.0</td>\n",
       "      <td>0.418</td>\n",
       "      <td>534.0</td>\n",
       "      <td>163.0</td>\n",
       "      <td>0.881</td>\n",
       "      <td>296.0</td>\n",
       "      <td>309.0</td>\n",
       "      <td>23.0</td>\n",
       "      <td>107.0</td>\n",
       "      <td>237.0</td>\n",
       "      <td>C</td>\n",
       "      <td>DEN</td>\n",
       "      <td>36.0</td>\n",
       "      <td>379.0</td>\n",
       "      <td>0.567</td>\n",
       "      <td>134.0</td>\n",
       "      <td>323.0</td>\n",
       "      <td>0.605</td>\n",
       "      <td>185.0</td>\n",
       "      <td>101.0</td>\n",
       "      <td>397.0</td>\n",
       "      <td>58.0</td>\n",
       "      <td>114.0</td>\n",
       "      <td>977.0</td>\n",
       "    </tr>\n",
       "  </tbody>\n",
       "</table>\n",
       "</div>"
      ],
      "text/plain": [
       "      Age     G      MP    FGA     3P    3P%    2PA     FT    FT%    DRB  \\\n",
       "38   27.0  32.0  1143.0  764.0   74.0  0.335  543.0  243.0  0.903  131.0   \n",
       "110  32.0  35.0  1194.0  718.0  169.0  0.411  307.0  184.0  0.934  174.0   \n",
       "13   26.0  35.0  1189.0  661.0   39.0  0.285  524.0  240.0  0.661  344.0   \n",
       "277  30.0  34.0  1224.0  708.0  146.0  0.384  328.0  237.0  0.933  130.0   \n",
       "240  25.0  36.0  1293.0  668.0   56.0  0.418  534.0  163.0  0.881  296.0   \n",
       "\n",
       "       AST   BLK     PF     Rk Pos   Tm    GS     FG    FG%    3PA     2P  \\\n",
       "38   151.0  14.0   82.0   37.0  SG  WAS  32.0  368.0  0.482  221.0  294.0   \n",
       "110  221.0   2.0   64.0  109.0  PG  GSW  35.0  343.0  0.478  411.0  174.0   \n",
       "13   205.0  49.0  106.0   12.0  PF  MIL  35.0  368.0  0.557  137.0  329.0   \n",
       "277  271.0   9.0   53.0  268.0  PG  POR  34.0  315.0  0.445  380.0  169.0   \n",
       "240  309.0  23.0  107.0  237.0   C  DEN  36.0  379.0  0.567  134.0  323.0   \n",
       "\n",
       "       2P%    FTA    ORB    TRB   STL    TOV     PTS  \n",
       "38   0.541  269.0   43.0  174.0  44.0  105.0  1053.0  \n",
       "110  0.567  197.0   17.0  191.0  46.0  111.0  1039.0  \n",
       "13   0.628  363.0   64.0  408.0  44.0  128.0  1015.0  \n",
       "277  0.515  254.0   15.0  145.0  35.0  111.0  1013.0  \n",
       "240  0.605  185.0  101.0  397.0  58.0  114.0   977.0  "
      ]
     },
     "execution_count": 47,
     "metadata": {},
     "output_type": "execute_result"
    }
   ],
   "source": [
    "#sorted dataset in terms of points:\n",
    "df_pts5"
   ]
  },
  {
   "cell_type": "code",
   "execution_count": 48,
   "metadata": {},
   "outputs": [
    {
     "data": {
      "image/png": "[encoded data removed]",
      "text/plain": [
       "<Figure size 432x288 with 1 Axes>"
      ]
     },
     "metadata": {
      "needs_background": "light"
     },
     "output_type": "display_data"
    }
   ],
   "source": [
    "#box plot for the points:\n",
    "# we can see the outliers for the highest points:\n",
    "sns.boxplot(df_copy['PTS']).set_title('Figure 1. Box Plot of Total points', fontsize = 15)\n",
    "plt.show()"
   ]
  },
  {
   "cell_type": "markdown",
   "metadata": {
    "id": "0-HLFaWTo7Gr"
   },
   "source": [
    "## Task 2.2 \n",
    "Assuming that the data collector makes an entry error when collecting data, it can be ensured that the error occurred in the 3P, 3PA and 3P% columns, but it is not sure which player's information the error lies on. Please try to explore the error by visualization to identify how many errors there are and try to fix it.\n"
   ]
  },
  {
   "cell_type": "code",
   "execution_count": 49,
   "metadata": {
    "id": "k3-8Pbi1n-Ei"
   },
   "outputs": [],
   "source": [
    "# Code goes after this line by adding cells\n"
   ]
  },
  {
   "cell_type": "code",
   "execution_count": 50,
   "metadata": {},
   "outputs": [
    {
     "data": {
      "image/png": "[encoded data removed]",
      "text/plain": [
       "<Figure size 432x288 with 1 Axes>"
      ]
     },
     "metadata": {
      "needs_background": "light"
     },
     "output_type": "display_data"
    }
   ],
   "source": [
    "# here we basically take the given 3P% and then plot with our own calculated 3P% so\n",
    "#if both of them are same we get astraight line as below\n",
    "# this also validates that we have done our cleaning properly in the previous task.\n",
    "\n",
    "threep_new = ((df_copy['3P']/df_copy['3PA']).round(3)).replace(np.nan,0)\n",
    "plt.scatter(threep_new, df_copy['3P%'], alpha = 0.3);\n",
    "plt.xlabel('3P_new');\n",
    "plt.ylabel('3P%');\n",
    "plt.title('Figure 4: Scatterplot of 3P% vs 3P_new', fontsize = 18);\n",
    "plt.show();"
   ]
  },
  {
   "cell_type": "markdown",
   "metadata": {
    "id": "jnasiwOAo_RP"
   },
   "source": [
    "## Task 2.3 \n",
    "Please analyze the relationship between the player's total points and the rest features (columns). Please use at least three other columns.\n"
   ]
  },
  {
   "cell_type": "code",
   "execution_count": 51,
   "metadata": {
    "id": "hHsmCb2gn-Ei"
   },
   "outputs": [],
   "source": [
    "# Code goes after this line by adding cells\n"
   ]
  },
  {
   "cell_type": "code",
   "execution_count": 52,
   "metadata": {},
   "outputs": [
    {
     "data": {
      "text/plain": [
       "Text(0, 0.5, 'PTS')"
      ]
     },
     "execution_count": 52,
     "metadata": {},
     "output_type": "execute_result"
    },
    {
     "data": {
      "image/png": "[encoded data removed]",
      "text/plain": [
       "<Figure size 432x288 with 1 Axes>"
      ]
     },
     "metadata": {
      "needs_background": "light"
     },
     "output_type": "display_data"
    }
   ],
   "source": [
    "#Boxplot points in reguard to points\n",
    "df_copy.dropna().boxplot(column='PTS',by='Pos')\n",
    "plt.ylabel(\"PTS\")"
   ]
  },
  {
   "cell_type": "code",
   "execution_count": 53,
   "metadata": {},
   "outputs": [
    {
     "data": {
      "image/png": "[encoded data removed]",
      "text/plain": [
       "<Figure size 432x288 with 1 Axes>"
      ]
     },
     "metadata": {
      "needs_background": "light"
     },
     "output_type": "display_data"
    }
   ],
   "source": [
    "#regression graph age in reguard to points\n",
    "import seaborn as sns\n",
    "sns.regplot(x='Age',y='PTS',data=df_copy);"
   ]
  },
  {
   "cell_type": "code",
   "execution_count": 54,
   "metadata": {},
   "outputs": [
    {
     "data": {
      "image/png": "[encoded data removed]",
      "text/plain": [
       "<Figure size 432x288 with 1 Axes>"
      ]
     },
     "metadata": {
      "needs_background": "light"
     },
     "output_type": "display_data"
    }
   ],
   "source": [
    "#Scatter plot age with points\n",
    "plt.scatter(df_copy['PTS'], df_copy['Age'], alpha = 0.6);\n",
    "plt.xlabel('PTS');\n",
    "plt.ylabel('Age');\n",
    "plt.title('Figure 4: Relationship between age and points', fontsize = 20);\n",
    "plt.axhline(3, color='black')\n",
    "plt.show();"
   ]
  },
  {
   "cell_type": "code",
   "execution_count": 55,
   "metadata": {},
   "outputs": [
    {
     "data": {
      "text/plain": [
       "Text(0.5, 0, 'PTS')"
      ]
     },
     "execution_count": 55,
     "metadata": {},
     "output_type": "execute_result"
    },
    {
     "data": {
      "image/png": "[encoded data removed]",
      "text/plain": [
       "<Figure size 720x720 with 1 Axes>"
      ]
     },
     "metadata": {
      "needs_background": "light"
     },
     "output_type": "display_data"
    }
   ],
   "source": [
    "#Boxplot points with reguar to teams\n",
    "df_copy.dropna().boxplot(column='PTS',by='Tm',vert=False,figsize=(10,10),color='brown')\n",
    "plt.ylabel(\"Tm\")\n",
    "plt.xlabel(\"PTS\")"
   ]
  }
 ],
 "metadata": {
  "colab": {
   "collapsed_sections": [],
   "name": "assignment1_TEMPLATE.ipynb",
   "provenance": [],
   "toc_visible": true
  },
  "kernelspec": {
   "display_name": "Python 3",
   "language": "python",
   "name": "python3"
  },
  "language_info": {
   "codemirror_mode": {
    "name": "ipython",
    "version": 3
   },
   "file_extension": ".py",
   "mimetype": "text/x-python",
   "name": "python",
   "nbconvert_exporter": "python",
   "pygments_lexer": "ipython3",
   "version": "3.8.3"
  }
 },
 "nbformat": 4,
 "nbformat_minor": 1
}
